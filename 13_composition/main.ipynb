{
 "cells": [
  {
   "cell_type": "code",
   "execution_count": 1,
   "id": "b9919dda",
   "metadata": {},
   "outputs": [
    {
     "name": "stdout",
     "output_type": "stream",
     "text": [
      "Car is starting...\n",
      "Engine started!\n"
     ]
    }
   ],
   "source": [
    "# Step 1: Engine class banao\n",
    "class Engine:\n",
    "    def start(self):\n",
    "        print(\"Engine started!\")\n",
    "\n",
    "# Step 2: Car class banao jo Engine ka object andar rakhe\n",
    "class Car:\n",
    "    def __init__(self):\n",
    "        self.engine = Engine()  # Composition: Engine is part of Car\n",
    "\n",
    "    def start(self):\n",
    "        print(\"Car is starting...\")\n",
    "        self.engine.start()  # Car, Engine ke method ko call kar rahi hai\n",
    "\n",
    "# Step 3: Test karo\n",
    "my_car = Car()\n",
    "my_car.start()\n"
   ]
  }
 ],
 "metadata": {
  "kernelspec": {
   "display_name": "Python 3",
   "language": "python",
   "name": "python3"
  },
  "language_info": {
   "codemirror_mode": {
    "name": "ipython",
    "version": 3
   },
   "file_extension": ".py",
   "mimetype": "text/x-python",
   "name": "python",
   "nbconvert_exporter": "python",
   "pygments_lexer": "ipython3",
   "version": "3.11.6"
  }
 },
 "nbformat": 4,
 "nbformat_minor": 5
}
