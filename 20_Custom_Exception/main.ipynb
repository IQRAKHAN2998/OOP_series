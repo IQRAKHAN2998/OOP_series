{
 "cells": [
  {
   "cell_type": "code",
   "execution_count": 1,
   "id": "3aa5701d",
   "metadata": {},
   "outputs": [
    {
     "name": "stdout",
     "output_type": "stream",
     "text": [
      "Caught an exception: You must be at least 18 years old.\n"
     ]
    }
   ],
   "source": [
    "# Step 1: Custom Exception class\n",
    "class InvalidAgeError(Exception):\n",
    "    pass\n",
    "\n",
    "# Step 2: Function jahan error raise hoga\n",
    "def check_age(age):\n",
    "    if age < 18:\n",
    "        raise InvalidAgeError(\"You must be at least 18 years old.\")\n",
    "    else:\n",
    "        print(\"Age is valid!\")\n",
    "\n",
    "# Step 3: Try...Except block\n",
    "try:\n",
    "    check_age(16)\n",
    "except InvalidAgeError as e:\n",
    "    print(\"Caught an exception:\", e)\n"
   ]
  }
 ],
 "metadata": {
  "kernelspec": {
   "display_name": "Python 3",
   "language": "python",
   "name": "python3"
  },
  "language_info": {
   "codemirror_mode": {
    "name": "ipython",
    "version": 3
   },
   "file_extension": ".py",
   "mimetype": "text/x-python",
   "name": "python",
   "nbconvert_exporter": "python",
   "pygments_lexer": "ipython3",
   "version": "3.11.6"
  }
 },
 "nbformat": 4,
 "nbformat_minor": 5
}
