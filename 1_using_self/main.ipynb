{
 "cells": [
  {
   "cell_type": "code",
   "execution_count": 1,
   "id": "40f6c2af",
   "metadata": {},
   "outputs": [
    {
     "name": "stdout",
     "output_type": "stream",
     "text": [
      "Student iqra , Marks 96\n"
     ]
    }
   ],
   "source": [
    "class Student():\n",
    "    def __init__(self , name , marks):\n",
    "        self.studentName = name\n",
    "        self.studentmarks = marks\n",
    "\n",
    "    def display(self):\n",
    "        print(f\"Student {self.studentName} , Marks {self.studentmarks}\")\n",
    "\n",
    "student1 = Student(\"iqra\", 96)\n",
    "student1.display()"
   ]
  }
 ],
 "metadata": {
  "kernelspec": {
   "display_name": "Python 3",
   "language": "python",
   "name": "python3"
  },
  "language_info": {
   "codemirror_mode": {
    "name": "ipython",
    "version": 3
   },
   "file_extension": ".py",
   "mimetype": "text/x-python",
   "name": "python",
   "nbconvert_exporter": "python",
   "pygments_lexer": "ipython3",
   "version": "3.11.6"
  }
 },
 "nbformat": 4,
 "nbformat_minor": 5
}
