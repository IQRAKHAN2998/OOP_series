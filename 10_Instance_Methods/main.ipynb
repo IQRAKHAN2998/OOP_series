{
 "cells": [
  {
   "cell_type": "code",
   "execution_count": 3,
   "id": "aef3a188",
   "metadata": {},
   "outputs": [
    {
     "name": "stdout",
     "output_type": "stream",
     "text": [
      "herry is barking\n"
     ]
    }
   ],
   "source": [
    "class Dog():\n",
    "    def __init__(self , name , breed):\n",
    "        self.name = name\n",
    "        self.breed = breed\n",
    "\n",
    "    def bark(self):\n",
    "        print(f\"{self.name} is barking\")\n",
    "\n",
    "d1 = Dog(\"herry\" , \"jeely\")\n",
    "d1.bark()"
   ]
  }
 ],
 "metadata": {
  "kernelspec": {
   "display_name": "Python 3",
   "language": "python",
   "name": "python3"
  },
  "language_info": {
   "codemirror_mode": {
    "name": "ipython",
    "version": 3
   },
   "file_extension": ".py",
   "mimetype": "text/x-python",
   "name": "python",
   "nbconvert_exporter": "python",
   "pygments_lexer": "ipython3",
   "version": "3.11.6"
  }
 },
 "nbformat": 4,
 "nbformat_minor": 5
}
