{
 "cells": [
  {
   "cell_type": "code",
   "execution_count": 11,
   "id": "98481fd3",
   "metadata": {},
   "outputs": [
    {
     "name": "stdout",
     "output_type": "stream",
     "text": [
      "Total Books Created 3\n"
     ]
    }
   ],
   "source": [
    "class Books:\n",
    "    total_books = 0\n",
    "\n",
    "   \n",
    "    def __init__(self, title):\n",
    "        self.title = title\n",
    "        Books.total_books += 1\n",
    "\n",
    "    @classmethod\n",
    "    def increment_book(cls):\n",
    "        print(f\"Total Books Created {cls.total_books}\")\n",
    "\n",
    "b1 = Books(\"python\")\n",
    "b2 = Books(\"nextjs\")\n",
    "b3 = Books(\"typescript\")\n",
    "Books.increment_book()\n"
   ]
  }
 ],
 "metadata": {
  "kernelspec": {
   "display_name": "Python 3",
   "language": "python",
   "name": "python3"
  },
  "language_info": {
   "codemirror_mode": {
    "name": "ipython",
    "version": 3
   },
   "file_extension": ".py",
   "mimetype": "text/x-python",
   "name": "python",
   "nbconvert_exporter": "python",
   "pygments_lexer": "ipython3",
   "version": "3.11.6"
  }
 },
 "nbformat": 4,
 "nbformat_minor": 5
}
