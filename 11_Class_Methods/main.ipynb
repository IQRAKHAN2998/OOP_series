{
 "cells": [
  {
   "cell_type": "code",
   "execution_count": 10,
   "id": "98481fd3",
   "metadata": {},
   "outputs": [
    {
     "name": "stdout",
     "output_type": "stream",
     "text": [
      "Total Books Created  3\n"
     ]
    }
   ],
   "source": [
    "class Books:\n",
    "    total_books = 0\n",
    "\n",
    "    def __init__(self , title):\n",
    "        self.title = title\n",
    "        Books.increment_book()\n",
    "\n",
    "    @classmethod\n",
    "    def increment_book(cls):\n",
    "        cls.total_books += 1\n",
    "\n",
    "b1 = Books(\"Typescript\")\n",
    "b2 = Books(\"Nextjs\")\n",
    "b3 = Books(\"Python\")\n",
    "\n",
    "print(\"Total Books Created \" , Books.total_books)\n"
   ]
  }
 ],
 "metadata": {
  "kernelspec": {
   "display_name": "Python 3",
   "language": "python",
   "name": "python3"
  },
  "language_info": {
   "codemirror_mode": {
    "name": "ipython",
    "version": 3
   },
   "file_extension": ".py",
   "mimetype": "text/x-python",
   "name": "python",
   "nbconvert_exporter": "python",
   "pygments_lexer": "ipython3",
   "version": "3.11.6"
  }
 },
 "nbformat": 4,
 "nbformat_minor": 5
}
