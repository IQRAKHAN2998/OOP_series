{
 "cells": [
  {
   "cell_type": "code",
   "execution_count": 10,
   "id": "37392ce2",
   "metadata": {},
   "outputs": [
    {
     "name": "stdout",
     "output_type": "stream",
     "text": [
      "toyota\n",
      "toyota is starting\n"
     ]
    }
   ],
   "source": [
    "class Car():\n",
    "    def __init__(self , brand):\n",
    "        self.brand = brand\n",
    "\n",
    "    def start(self):\n",
    "        print(f\"{self.brand} is starting\")\n",
    "\n",
    "car_name = Car(\"toyota\")\n",
    "print(car_name.brand)\n",
    "car_name.start()\n"
   ]
  }
 ],
 "metadata": {
  "kernelspec": {
   "display_name": "Python 3",
   "language": "python",
   "name": "python3"
  },
  "language_info": {
   "codemirror_mode": {
    "name": "ipython",
    "version": 3
   },
   "file_extension": ".py",
   "mimetype": "text/x-python",
   "name": "python",
   "nbconvert_exporter": "python",
   "pygments_lexer": "ipython3",
   "version": "3.11.6"
  }
 },
 "nbformat": 4,
 "nbformat_minor": 5
}
