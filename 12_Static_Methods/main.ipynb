{
 "cells": [
  {
   "cell_type": "code",
   "execution_count": 6,
   "id": "c35f7df7",
   "metadata": {},
   "outputs": [
    {
     "name": "stdout",
     "output_type": "stream",
     "text": [
      "86.0\n",
      "73.4\n"
     ]
    }
   ],
   "source": [
    "class TempretureConverter:\n",
    "\n",
    "    @staticmethod\n",
    "    def celusis_fehrenhit(c):\n",
    "        return (c * 9/5) + 32\n",
    "\n",
    "print(TempretureConverter.celusis_fehrenhit(30))\n",
    "\n",
    "#with obje\n",
    "temp = TempretureConverter()\n",
    "print(temp.celusis_fehrenhit(23))"
   ]
  }
 ],
 "metadata": {
  "kernelspec": {
   "display_name": "Python 3",
   "language": "python",
   "name": "python3"
  },
  "language_info": {
   "codemirror_mode": {
    "name": "ipython",
    "version": 3
   },
   "file_extension": ".py",
   "mimetype": "text/x-python",
   "name": "python",
   "nbconvert_exporter": "python",
   "pygments_lexer": "ipython3",
   "version": "3.11.6"
  }
 },
 "nbformat": 4,
 "nbformat_minor": 5
}
