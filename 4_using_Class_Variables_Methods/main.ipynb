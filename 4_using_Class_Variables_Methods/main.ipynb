{
 "cells": [
  {
   "cell_type": "code",
   "execution_count": 3,
   "id": "38a9982b",
   "metadata": {},
   "outputs": [
    {
     "name": "stdout",
     "output_type": "stream",
     "text": [
      "HBL\n",
      "HBL\n",
      "IKB\n"
     ]
    }
   ],
   "source": [
    "class Bank():\n",
    "    Bank_name = \"HBL\"\n",
    "\n",
    "    @classmethod\n",
    "    def change_bank_name(cls , name):\n",
    "        cls.Bank_name = name\n",
    "\n",
    "user1 = Bank()\n",
    "user2 = Bank()\n",
    "\n",
    "print(user1.Bank_name)\n",
    "print(user2.Bank_name)\n",
    "\n",
    "Bank.change_bank_name(\"IKB\")\n",
    "print(user1.Bank_name)\n",
    "\n"
   ]
  }
 ],
 "metadata": {
  "kernelspec": {
   "display_name": "Python 3",
   "language": "python",
   "name": "python3"
  },
  "language_info": {
   "codemirror_mode": {
    "name": "ipython",
    "version": 3
   },
   "file_extension": ".py",
   "mimetype": "text/x-python",
   "name": "python",
   "nbconvert_exporter": "python",
   "pygments_lexer": "ipython3",
   "version": "3.11.6"
  }
 },
 "nbformat": 4,
 "nbformat_minor": 5
}
