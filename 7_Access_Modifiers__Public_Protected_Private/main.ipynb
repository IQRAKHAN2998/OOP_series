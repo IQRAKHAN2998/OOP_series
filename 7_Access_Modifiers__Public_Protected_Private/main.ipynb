{
 "cells": [
  {
   "cell_type": "code",
   "execution_count": 11,
   "id": "9f748d1f",
   "metadata": {},
   "outputs": [
    {
     "name": "stdout",
     "output_type": "stream",
     "text": [
      "iqra\n",
      "70000\n",
      "123\n"
     ]
    }
   ],
   "source": [
    "class Employee():\n",
    "    def __init__(self , name , salary , ssn):\n",
    "        self.person_name = name                # public\n",
    "        self._salary = salary                  # protected\n",
    "        self.__ssn = ssn                        # private\n",
    "\n",
    "    def show_salary(self):\n",
    "        return  self._salary\n",
    "\n",
    "emp = Employee(\"iqra\" , 70000 , 123)\n",
    "\n",
    "print(emp.person_name )                      # iqra\n",
    "print(emp.show_salary())                           # 7000\n",
    "\n",
    "# print(emp.__ssn)                             # attribute error b'cz ssn is prvt\n",
    "\n",
    "# how to access prvt variable\n",
    "print(emp._Employee__ssn)                       #its works"
   ]
  }
 ],
 "metadata": {
  "kernelspec": {
   "display_name": "Python 3",
   "language": "python",
   "name": "python3"
  },
  "language_info": {
   "codemirror_mode": {
    "name": "ipython",
    "version": 3
   },
   "file_extension": ".py",
   "mimetype": "text/x-python",
   "name": "python",
   "nbconvert_exporter": "python",
   "pygments_lexer": "ipython3",
   "version": "3.11.6"
  }
 },
 "nbformat": 4,
 "nbformat_minor": 5
}
