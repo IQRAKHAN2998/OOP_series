{
 "cells": [
  {
   "cell_type": "code",
   "execution_count": null,
   "id": "81e199f3",
   "metadata": {},
   "outputs": [
    {
     "name": "stdout",
     "output_type": "stream",
     "text": [
      "50\n",
      "True\n",
      "False\n"
     ]
    }
   ],
   "source": [
    "class Multiplier:\n",
    "    def __init__(self, factor):\n",
    "        self.factor = factor\n",
    "\n",
    "    def __call__(self, number):\n",
    "        return self.factor * number\n",
    "\n",
    "# Object banao\n",
    "m = Multiplier(5)\n",
    "\n",
    "# Object ko function ki tarah call karo\n",
    "print(m(10))   # Output: 50\n",
    "\n",
    "# Check karo object callable hai ya nahi\n",
    "print(callable(m))  # Output: True\n",
    "\n",
    "#noramal object\n",
    "x = 10\n",
    "print(callable(x))  # Output: False\n"
   ]
  }
 ],
 "metadata": {
  "kernelspec": {
   "display_name": "Python 3",
   "language": "python",
   "name": "python3"
  },
  "language_info": {
   "codemirror_mode": {
    "name": "ipython",
    "version": 3
   },
   "file_extension": ".py",
   "mimetype": "text/x-python",
   "name": "python",
   "nbconvert_exporter": "python",
   "pygments_lexer": "ipython3",
   "version": "3.11.6"
  }
 },
 "nbformat": 4,
 "nbformat_minor": 5
}
