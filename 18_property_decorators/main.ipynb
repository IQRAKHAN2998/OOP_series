{
 "cells": [
  {
   "cell_type": "code",
   "execution_count": null,
   "id": "c3455f41",
   "metadata": {},
   "outputs": [
    {
     "name": "stdout",
     "output_type": "stream",
     "text": [
      "500\n",
      "800\n",
      "Invalid price! Must be non-negative.\n",
      "Deleting price...\n"
     ]
    }
   ],
   "source": [
    "class Product:\n",
    "    def __init__(self, price):\n",
    "        self._price = price  # private attribute\n",
    "\n",
    "    @property\n",
    "    def price(self):\n",
    "        return self._price\n",
    "\n",
    "    @price.setter\n",
    "    def price(self, new_price):\n",
    "        if new_price < 0:\n",
    "            print(\"Invalid price! Must be non-negative.\")\n",
    "        else:\n",
    "            self._price = new_price\n",
    "\n",
    "    @price.deleter\n",
    "    def price(self):\n",
    "        print(\"Deleting price...\")\n",
    "        del self._price\n",
    "\n",
    "# Object banate hain\n",
    "p = Product(500)\n",
    "\n",
    "# Access via property\n",
    "print(p.price)  # Output: 500\n",
    "\n",
    "# Set new value\n",
    "p.price = 800\n",
    "print(p.price)  # Output: 800\n",
    "\n",
    "# Try setting invalid value\n",
    "p.price = -100               # Output: Invalid price!\n",
    "\n",
    "# Delete price\n",
    "del p.price                  # Output: Deleting price...\n"
   ]
  }
 ],
 "metadata": {
  "kernelspec": {
   "display_name": "Python 3",
   "language": "python",
   "name": "python3"
  },
  "language_info": {
   "codemirror_mode": {
    "name": "ipython",
    "version": 3
   },
   "file_extension": ".py",
   "mimetype": "text/x-python",
   "name": "python",
   "nbconvert_exporter": "python",
   "pygments_lexer": "ipython3",
   "version": "3.11.6"
  }
 },
 "nbformat": 4,
 "nbformat_minor": 5
}
