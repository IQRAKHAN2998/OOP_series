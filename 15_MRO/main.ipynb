{
 "cells": [
  {
   "cell_type": "code",
   "execution_count": 1,
   "id": "866779be",
   "metadata": {},
   "outputs": [
    {
     "name": "stdout",
     "output_type": "stream",
     "text": [
      "B class\n"
     ]
    }
   ],
   "source": [
    "class A:\n",
    "    def show(self):\n",
    "        print(\"A class\")\n",
    "\n",
    "class B(A):\n",
    "    def show(self):\n",
    "        print(\"B class\")\n",
    "\n",
    "class C(A):\n",
    "    def show(self):\n",
    "        print(\"C class\")\n",
    "\n",
    "class D(B, C):  # Diamond inheritance\n",
    "    pass\n",
    "\n",
    "obj = D()\n",
    "obj.show()\n"
   ]
  }
 ],
 "metadata": {
  "kernelspec": {
   "display_name": "Python 3",
   "language": "python",
   "name": "python3"
  },
  "language_info": {
   "codemirror_mode": {
    "name": "ipython",
    "version": 3
   },
   "file_extension": ".py",
   "mimetype": "text/x-python",
   "name": "python",
   "nbconvert_exporter": "python",
   "pygments_lexer": "ipython3",
   "version": "3.11.6"
  }
 },
 "nbformat": 4,
 "nbformat_minor": 5
}
