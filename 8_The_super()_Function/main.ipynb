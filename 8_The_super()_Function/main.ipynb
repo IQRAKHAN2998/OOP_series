{
 "cells": [
  {
   "cell_type": "code",
   "execution_count": 2,
   "id": "38a6c697",
   "metadata": {},
   "outputs": [
    {
     "name": "stdout",
     "output_type": "stream",
     "text": [
      "Name: Iqra\n",
      "Subject: Python\n"
     ]
    }
   ],
   "source": [
    "class Person():\n",
    "    def __init__(self , name):\n",
    "        self.name = name\n",
    "    \n",
    "class Teacher(Person):\n",
    "    def __init__(self , name , subject):\n",
    "        super().__init__(name)\n",
    "        self.subject = subject\n",
    "\n",
    "    def display(self):\n",
    "        print(f\"Name: {self.name}\")\n",
    "        print(f\"Subject: {self.subject}\")\n",
    "\n",
    "p1 = Teacher(\"Iqra\" , \"Python\")\n",
    "p1.display()"
   ]
  }
 ],
 "metadata": {
  "kernelspec": {
   "display_name": "Python 3",
   "language": "python",
   "name": "python3"
  },
  "language_info": {
   "codemirror_mode": {
    "name": "ipython",
    "version": 3
   },
   "file_extension": ".py",
   "mimetype": "text/x-python",
   "name": "python",
   "nbconvert_exporter": "python",
   "pygments_lexer": "ipython3",
   "version": "3.11.6"
  }
 },
 "nbformat": 4,
 "nbformat_minor": 5
}
