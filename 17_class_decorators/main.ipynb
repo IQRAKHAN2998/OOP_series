{
 "cells": [
  {
   "cell_type": "code",
   "execution_count": 1,
   "id": "10b6dcd0",
   "metadata": {},
   "outputs": [
    {
     "name": "stdout",
     "output_type": "stream",
     "text": [
      "Hello from Decorator!\n"
     ]
    }
   ],
   "source": [
    "# Class Decorator\n",
    "def add_greeting(cls):\n",
    "    # Method add kar rahe hain dynamically\n",
    "    def greet(self):\n",
    "        return \"Hello from Decorator!\"\n",
    "    \n",
    "    cls.greet = greet  # greet method attach kar di class ko\n",
    "    return cls\n",
    "\n",
    "# Applying class decorator\n",
    "@add_greeting\n",
    "class Person:\n",
    "    def __init__(self, name):\n",
    "        self.name = name\n",
    "\n",
    "# Object banate hain\n",
    "p = Person(\"Iqra\")\n",
    "\n",
    "# greet method call\n",
    "print(p.greet())  # Output: Hello from Decorator!\n"
   ]
  }
 ],
 "metadata": {
  "kernelspec": {
   "display_name": "Python 3",
   "language": "python",
   "name": "python3"
  },
  "language_info": {
   "codemirror_mode": {
    "name": "ipython",
    "version": 3
   },
   "file_extension": ".py",
   "mimetype": "text/x-python",
   "name": "python",
   "nbconvert_exporter": "python",
   "pygments_lexer": "ipython3",
   "version": "3.11.6"
  }
 },
 "nbformat": 4,
 "nbformat_minor": 5
}
