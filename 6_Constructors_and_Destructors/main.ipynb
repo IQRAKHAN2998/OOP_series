{
 "cells": [
  {
   "cell_type": "code",
   "execution_count": 2,
   "id": "53a4a609",
   "metadata": {},
   "outputs": [
    {
     "name": "stdout",
     "output_type": "stream",
     "text": [
      "Loger object has been created\n",
      "Logger object has been destroyed\n"
     ]
    }
   ],
   "source": [
    "class Logger():\n",
    "    def __init__(self):\n",
    "        print(\"Loger object has been created\")\n",
    "\n",
    "    def __del__(self):\n",
    "        print(\"Logger object has been destroyed\")\n",
    "\n",
    "def show():\n",
    "    temp = Logger()\n",
    "\n",
    "show()"
   ]
  }
 ],
 "metadata": {
  "kernelspec": {
   "display_name": "Python 3",
   "language": "python",
   "name": "python3"
  },
  "language_info": {
   "codemirror_mode": {
    "name": "ipython",
    "version": 3
   },
   "file_extension": ".py",
   "mimetype": "text/x-python",
   "name": "python",
   "nbconvert_exporter": "python",
   "pygments_lexer": "ipython3",
   "version": "3.11.6"
  }
 },
 "nbformat": 4,
 "nbformat_minor": 5
}
