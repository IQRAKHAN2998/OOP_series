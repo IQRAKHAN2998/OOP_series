{
 "cells": [
  {
   "cell_type": "code",
   "execution_count": null,
   "id": "0f499a86",
   "metadata": {},
   "outputs": [
    {
     "name": "stdout",
     "output_type": "stream",
     "text": [
      "Ali works in IT department.\n"
     ]
    }
   ],
   "source": [
    "# Employee class\n",
    "class Employee:\n",
    "    def __init__(self, name):\n",
    "        self.name = name\n",
    "\n",
    "# Department class\n",
    "class Department:\n",
    "    def __init__(self, department_name, employee):\n",
    "        self.department_name = department_name\n",
    "        self.employee = employee  # Aggregation (reference only)\n",
    "\n",
    "    def show_details(self):\n",
    "        print(f\"{self.employee.name} works in {self.department_name} department.\")\n",
    "\n",
    "# Create employee object\n",
    "emp1 = Employee(\"Iqra\")\n",
    "\n",
    "# Create department object with reference to employee\n",
    "dept = Department(\"IT\", emp1)\n",
    "\n",
    "# Show details\n",
    "dept.show_details()\n"
   ]
  }
 ],
 "metadata": {
  "kernelspec": {
   "display_name": "Python 3",
   "language": "python",
   "name": "python3"
  },
  "language_info": {
   "codemirror_mode": {
    "name": "ipython",
    "version": 3
   },
   "file_extension": ".py",
   "mimetype": "text/x-python",
   "name": "python",
   "nbconvert_exporter": "python",
   "pygments_lexer": "ipython3",
   "version": "3.11.6"
  }
 },
 "nbformat": 4,
 "nbformat_minor": 5
}
